{
 "cells": [
  {
   "cell_type": "markdown",
   "id": "ebe08c5e",
   "metadata": {},
   "source": [
    "# This is part 1 out of 3 notebooks I have made for this Flower Classification task, where this notebook focusses on making a csv file for the train and test txt files"
   ]
  },
  {
   "cell_type": "code",
   "execution_count": 1,
   "id": "6d0a0c67",
   "metadata": {},
   "outputs": [],
   "source": [
    "train_file = 'D:/DATA_SCIENCE/tmlc challenge/oxford-102-flowers/train.txt'\n",
    "valid_file = 'D:/DATA_SCIENCE/tmlc challenge/oxford-102-flowers/valid.txt'\n",
    "test_file = 'D:/DATA_SCIENCE/tmlc challenge/oxford-102-flowers/test.txt'"
   ]
  },
  {
   "cell_type": "code",
   "execution_count": 2,
   "id": "3bb223b4",
   "metadata": {},
   "outputs": [],
   "source": [
    "def store_content(path):\n",
    "    \"\"\" reading the txt content and storing in a list\"\"\"\n",
    "    content = []\n",
    "    with open(path, 'r') as f:\n",
    "        content.append(f.read().splitlines())\n",
    "    return content"
   ]
  },
  {
   "cell_type": "code",
   "execution_count": 3,
   "id": "fb2ac777",
   "metadata": {},
   "outputs": [],
   "source": [
    "train_content = store_content(train_file)\n",
    "valid_content = store_content(valid_file)\n",
    "test_content = store_content(test_file)"
   ]
  },
  {
   "cell_type": "code",
   "execution_count": 4,
   "id": "4c0e3d2d",
   "metadata": {},
   "outputs": [
    {
     "data": {
      "text/plain": [
       "(1020, 1020, 6149)"
      ]
     },
     "execution_count": 4,
     "metadata": {},
     "output_type": "execute_result"
    }
   ],
   "source": [
    "len(train_content[0]), len(valid_content[0]), len(test_content[0])"
   ]
  },
  {
   "cell_type": "code",
   "execution_count": 5,
   "id": "45e271ff",
   "metadata": {},
   "outputs": [],
   "source": [
    "def to_dictionary(listtt):\n",
    "    \"\"\" converting the list into a dict\"\"\"\n",
    "    custom_dict = {}\n",
    "    for line in listtt[0]:\n",
    "        key, value = str(line).split(' ')\n",
    "        custom_dict[key] = value\n",
    "    return custom_dict"
   ]
  },
  {
   "cell_type": "code",
   "execution_count": 6,
   "id": "8987566c",
   "metadata": {},
   "outputs": [],
   "source": [
    "train_dict = to_dictionary(train_content)\n",
    "valid_dict = to_dictionary(valid_content)\n",
    "test_dict = to_dictionary(test_content)"
   ]
  },
  {
   "cell_type": "code",
   "execution_count": 7,
   "id": "22c4f76a",
   "metadata": {},
   "outputs": [],
   "source": [
    "import pandas as pd\n",
    "import numpy as np"
   ]
  },
  {
   "cell_type": "code",
   "execution_count": 8,
   "id": "cb940cdd",
   "metadata": {},
   "outputs": [],
   "source": [
    "# converting the dictionary into a dataframe\n",
    "train_df = pd.DataFrame.from_dict(train_dict, orient = 'index')\n",
    "train_df['image_ids'] = train_df.index\n",
    "train_df.reset_index(drop = True, inplace = True)\n",
    "train_df.rename(columns = {0 : 'target'}, inplace = True)"
   ]
  },
  {
   "cell_type": "code",
   "execution_count": 9,
   "id": "cd0b593f",
   "metadata": {},
   "outputs": [
    {
     "data": {
      "text/html": [
       "<div>\n",
       "<style scoped>\n",
       "    .dataframe tbody tr th:only-of-type {\n",
       "        vertical-align: middle;\n",
       "    }\n",
       "\n",
       "    .dataframe tbody tr th {\n",
       "        vertical-align: top;\n",
       "    }\n",
       "\n",
       "    .dataframe thead th {\n",
       "        text-align: right;\n",
       "    }\n",
       "</style>\n",
       "<table border=\"1\" class=\"dataframe\">\n",
       "  <thead>\n",
       "    <tr style=\"text-align: right;\">\n",
       "      <th></th>\n",
       "      <th>target</th>\n",
       "      <th>image_ids</th>\n",
       "    </tr>\n",
       "  </thead>\n",
       "  <tbody>\n",
       "    <tr>\n",
       "      <th>0</th>\n",
       "      <td>16</td>\n",
       "      <td>jpg/image_03860.jpg</td>\n",
       "    </tr>\n",
       "    <tr>\n",
       "      <th>1</th>\n",
       "      <td>13</td>\n",
       "      <td>jpg/image_06092.jpg</td>\n",
       "    </tr>\n",
       "    <tr>\n",
       "      <th>2</th>\n",
       "      <td>42</td>\n",
       "      <td>jpg/image_02400.jpg</td>\n",
       "    </tr>\n",
       "    <tr>\n",
       "      <th>3</th>\n",
       "      <td>55</td>\n",
       "      <td>jpg/image_02852.jpg</td>\n",
       "    </tr>\n",
       "    <tr>\n",
       "      <th>4</th>\n",
       "      <td>96</td>\n",
       "      <td>jpg/image_07710.jpg</td>\n",
       "    </tr>\n",
       "  </tbody>\n",
       "</table>\n",
       "</div>"
      ],
      "text/plain": [
       "  target            image_ids\n",
       "0     16  jpg/image_03860.jpg\n",
       "1     13  jpg/image_06092.jpg\n",
       "2     42  jpg/image_02400.jpg\n",
       "3     55  jpg/image_02852.jpg\n",
       "4     96  jpg/image_07710.jpg"
      ]
     },
     "metadata": {},
     "output_type": "display_data"
    }
   ],
   "source": [
    "display(train_df.head(5))"
   ]
  },
  {
   "cell_type": "code",
   "execution_count": 10,
   "id": "4c6043c9",
   "metadata": {},
   "outputs": [],
   "source": [
    "assert len(train_dict) == train_df.shape[0], 'bruh you made a mistake'"
   ]
  },
  {
   "cell_type": "code",
   "execution_count": 11,
   "id": "5773d3c2",
   "metadata": {},
   "outputs": [],
   "source": [
    "valid_df = pd.DataFrame.from_dict(valid_dict, orient = 'index')\n",
    "valid_df['image_ids'] = valid_df.index\n",
    "valid_df.reset_index(drop = True, inplace = True)\n",
    "valid_df.rename(columns = {0 : 'target'}, inplace = True)"
   ]
  },
  {
   "cell_type": "code",
   "execution_count": 12,
   "id": "3d810bcf",
   "metadata": {},
   "outputs": [
    {
     "data": {
      "text/html": [
       "<div>\n",
       "<style scoped>\n",
       "    .dataframe tbody tr th:only-of-type {\n",
       "        vertical-align: middle;\n",
       "    }\n",
       "\n",
       "    .dataframe tbody tr th {\n",
       "        vertical-align: top;\n",
       "    }\n",
       "\n",
       "    .dataframe thead th {\n",
       "        text-align: right;\n",
       "    }\n",
       "</style>\n",
       "<table border=\"1\" class=\"dataframe\">\n",
       "  <thead>\n",
       "    <tr style=\"text-align: right;\">\n",
       "      <th></th>\n",
       "      <th>target</th>\n",
       "      <th>image_ids</th>\n",
       "    </tr>\n",
       "  </thead>\n",
       "  <tbody>\n",
       "    <tr>\n",
       "      <th>0</th>\n",
       "      <td>89</td>\n",
       "      <td>jpg/image_04467.jpg</td>\n",
       "    </tr>\n",
       "    <tr>\n",
       "      <th>1</th>\n",
       "      <td>44</td>\n",
       "      <td>jpg/image_07129.jpg</td>\n",
       "    </tr>\n",
       "    <tr>\n",
       "      <th>2</th>\n",
       "      <td>4</td>\n",
       "      <td>jpg/image_05166.jpg</td>\n",
       "    </tr>\n",
       "    <tr>\n",
       "      <th>3</th>\n",
       "      <td>34</td>\n",
       "      <td>jpg/image_07002.jpg</td>\n",
       "    </tr>\n",
       "    <tr>\n",
       "      <th>4</th>\n",
       "      <td>79</td>\n",
       "      <td>jpg/image_02007.jpg</td>\n",
       "    </tr>\n",
       "  </tbody>\n",
       "</table>\n",
       "</div>"
      ],
      "text/plain": [
       "  target            image_ids\n",
       "0     89  jpg/image_04467.jpg\n",
       "1     44  jpg/image_07129.jpg\n",
       "2      4  jpg/image_05166.jpg\n",
       "3     34  jpg/image_07002.jpg\n",
       "4     79  jpg/image_02007.jpg"
      ]
     },
     "metadata": {},
     "output_type": "display_data"
    }
   ],
   "source": [
    "display(valid_df.head(5))"
   ]
  },
  {
   "cell_type": "code",
   "execution_count": 13,
   "id": "ee4dfbbf",
   "metadata": {},
   "outputs": [],
   "source": [
    "assert len(valid_dict) == valid_df.shape[0], 'bruh you made a mistake'"
   ]
  },
  {
   "cell_type": "code",
   "execution_count": 14,
   "id": "b44e02d0",
   "metadata": {},
   "outputs": [],
   "source": [
    "# concatenating the train and validation sets since i will be creating 5 folds while training\n",
    "train_metadata = pd.concat([train_df, valid_df], axis = 0)"
   ]
  },
  {
   "cell_type": "code",
   "execution_count": 15,
   "id": "1223d592",
   "metadata": {},
   "outputs": [
    {
     "data": {
      "text/html": [
       "<div>\n",
       "<style scoped>\n",
       "    .dataframe tbody tr th:only-of-type {\n",
       "        vertical-align: middle;\n",
       "    }\n",
       "\n",
       "    .dataframe tbody tr th {\n",
       "        vertical-align: top;\n",
       "    }\n",
       "\n",
       "    .dataframe thead th {\n",
       "        text-align: right;\n",
       "    }\n",
       "</style>\n",
       "<table border=\"1\" class=\"dataframe\">\n",
       "  <thead>\n",
       "    <tr style=\"text-align: right;\">\n",
       "      <th></th>\n",
       "      <th>target</th>\n",
       "      <th>image_ids</th>\n",
       "    </tr>\n",
       "  </thead>\n",
       "  <tbody>\n",
       "    <tr>\n",
       "      <th>0</th>\n",
       "      <td>16</td>\n",
       "      <td>jpg/image_03860.jpg</td>\n",
       "    </tr>\n",
       "    <tr>\n",
       "      <th>1</th>\n",
       "      <td>13</td>\n",
       "      <td>jpg/image_06092.jpg</td>\n",
       "    </tr>\n",
       "    <tr>\n",
       "      <th>2</th>\n",
       "      <td>42</td>\n",
       "      <td>jpg/image_02400.jpg</td>\n",
       "    </tr>\n",
       "    <tr>\n",
       "      <th>3</th>\n",
       "      <td>55</td>\n",
       "      <td>jpg/image_02852.jpg</td>\n",
       "    </tr>\n",
       "    <tr>\n",
       "      <th>4</th>\n",
       "      <td>96</td>\n",
       "      <td>jpg/image_07710.jpg</td>\n",
       "    </tr>\n",
       "    <tr>\n",
       "      <th>...</th>\n",
       "      <td>...</td>\n",
       "      <td>...</td>\n",
       "    </tr>\n",
       "    <tr>\n",
       "      <th>1015</th>\n",
       "      <td>61</td>\n",
       "      <td>jpg/image_08182.jpg</td>\n",
       "    </tr>\n",
       "    <tr>\n",
       "      <th>1016</th>\n",
       "      <td>38</td>\n",
       "      <td>jpg/image_07029.jpg</td>\n",
       "    </tr>\n",
       "    <tr>\n",
       "      <th>1017</th>\n",
       "      <td>67</td>\n",
       "      <td>jpg/image_05956.jpg</td>\n",
       "    </tr>\n",
       "    <tr>\n",
       "      <th>1018</th>\n",
       "      <td>13</td>\n",
       "      <td>jpg/image_06051.jpg</td>\n",
       "    </tr>\n",
       "    <tr>\n",
       "      <th>1019</th>\n",
       "      <td>96</td>\n",
       "      <td>jpg/image_07724.jpg</td>\n",
       "    </tr>\n",
       "  </tbody>\n",
       "</table>\n",
       "<p>2040 rows × 2 columns</p>\n",
       "</div>"
      ],
      "text/plain": [
       "     target            image_ids\n",
       "0        16  jpg/image_03860.jpg\n",
       "1        13  jpg/image_06092.jpg\n",
       "2        42  jpg/image_02400.jpg\n",
       "3        55  jpg/image_02852.jpg\n",
       "4        96  jpg/image_07710.jpg\n",
       "...     ...                  ...\n",
       "1015     61  jpg/image_08182.jpg\n",
       "1016     38  jpg/image_07029.jpg\n",
       "1017     67  jpg/image_05956.jpg\n",
       "1018     13  jpg/image_06051.jpg\n",
       "1019     96  jpg/image_07724.jpg\n",
       "\n",
       "[2040 rows x 2 columns]"
      ]
     },
     "execution_count": 15,
     "metadata": {},
     "output_type": "execute_result"
    }
   ],
   "source": [
    "train_metadata"
   ]
  },
  {
   "cell_type": "code",
   "execution_count": 16,
   "id": "53db15ee",
   "metadata": {},
   "outputs": [],
   "source": [
    "test_metadata = pd.DataFrame.from_dict(test_dict, orient = 'index')\n",
    "test_metadata['image_ids'] = test_metadata.index\n",
    "test_metadata.reset_index(drop = True, inplace = True)\n",
    "test_metadata.rename(columns = {0 : 'target'}, inplace = True)"
   ]
  },
  {
   "cell_type": "code",
   "execution_count": 17,
   "id": "44f06f24",
   "metadata": {},
   "outputs": [],
   "source": [
    "assert len(test_dict) == test_metadata.shape[0], 'bruh you made a mistake'"
   ]
  },
  {
   "cell_type": "code",
   "execution_count": 18,
   "id": "3f4b624a",
   "metadata": {},
   "outputs": [],
   "source": [
    "train_metadata.to_csv('train.csv', index = None)\n",
    "test_metadata.to_csv('test.csv', index = None)"
   ]
  },
  {
   "cell_type": "code",
   "execution_count": 83,
   "id": "97de0dcf",
   "metadata": {},
   "outputs": [],
   "source": [
    "train_metadata.to_pickle('train.pkl')\n",
    "test_metadata.to_pickle('test.pkl')"
   ]
  }
 ],
 "metadata": {
  "kernelspec": {
   "display_name": "Python 3",
   "language": "python",
   "name": "python3"
  },
  "language_info": {
   "codemirror_mode": {
    "name": "ipython",
    "version": 3
   },
   "file_extension": ".py",
   "mimetype": "text/x-python",
   "name": "python",
   "nbconvert_exporter": "python",
   "pygments_lexer": "ipython3",
   "version": "3.8.8"
  }
 },
 "nbformat": 4,
 "nbformat_minor": 5
}
